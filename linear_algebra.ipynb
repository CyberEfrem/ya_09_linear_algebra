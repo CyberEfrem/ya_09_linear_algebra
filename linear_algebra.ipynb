{
 "cells": [
  {
   "cell_type": "markdown",
   "metadata": {
    "toc": true
   },
   "source": [
    "<h1>Содержание<span class=\"tocSkip\"></span></h1>\n",
    "<div class=\"toc\"><ul class=\"toc-item\"><li><span><a href=\"#Загрузка-данных\" data-toc-modified-id=\"Загрузка-данных-1\"><span class=\"toc-item-num\">1&nbsp;&nbsp;</span>Загрузка данных</a></span></li><li><span><a href=\"#Умножение-матриц\" data-toc-modified-id=\"Умножение-матриц-2\"><span class=\"toc-item-num\">2&nbsp;&nbsp;</span>Умножение матриц</a></span><ul class=\"toc-item\"><li><span><a href=\"#Признаки-умножают-на-обратимую-матрицу.-Изменится-ли-качество-линейной-регрессии?\" data-toc-modified-id=\"Признаки-умножают-на-обратимую-матрицу.-Изменится-ли-качество-линейной-регрессии?-2.1\"><span class=\"toc-item-num\">2.1&nbsp;&nbsp;</span>Признаки умножают на обратимую матрицу. Изменится ли качество линейной регрессии?</a></span></li></ul></li><li><span><a href=\"#Алгоритм-преобразования\" data-toc-modified-id=\"Алгоритм-преобразования-3\"><span class=\"toc-item-num\">3&nbsp;&nbsp;</span>Алгоритм преобразования</a></span></li><li><span><a href=\"#Проверка-алгоритма\" data-toc-modified-id=\"Проверка-алгоритма-4\"><span class=\"toc-item-num\">4&nbsp;&nbsp;</span>Проверка алгоритма</a></span><ul class=\"toc-item\"><li><span><a href=\"#Обучим-Линейную-регрессию-на-исходных-данных.\" data-toc-modified-id=\"Обучим-Линейную-регрессию-на-исходных-данных.-4.1\"><span class=\"toc-item-num\">4.1&nbsp;&nbsp;</span>Обучим Линейную регрессию на исходных данных.</a></span></li><li><span><a href=\"#Умножим-наши-признаки-на-рандомную-матрицу-и-проведем-обучение-линейной-регрессии-на-новых-данных.\" data-toc-modified-id=\"Умножим-наши-признаки-на-рандомную-матрицу-и-проведем-обучение-линейной-регрессии-на-новых-данных.-4.2\"><span class=\"toc-item-num\">4.2&nbsp;&nbsp;</span>Умножим наши признаки на рандомную матрицу и проведем обучение линейной регрессии на новых данных.</a></span></li><li><span><a href=\"#Вывод:-Произведением-признаков-на-случайную-обратимую-матрицу-удалось-изменить-персональные-данные-клиентов,-защитив-их,-при-этом-R2-score-модели-на-новых-данных-никак-не-изменилось.\" data-toc-modified-id=\"Вывод:-Произведением-признаков-на-случайную-обратимую-матрицу-удалось-изменить-персональные-данные-клиентов,-защитив-их,-при-этом-R2-score-модели-на-новых-данных-никак-не-изменилось.-4.3\"><span class=\"toc-item-num\">4.3&nbsp;&nbsp;</span>Вывод: Произведением признаков на случайную обратимую матрицу удалось изменить персональные данные клиентов, защитив их, при этом R2 score модели на новых данных никак не изменилось.</a></span></li></ul></li><li><span><a href=\"#Чек-лист-проверки\" data-toc-modified-id=\"Чек-лист-проверки-5\"><span class=\"toc-item-num\">5&nbsp;&nbsp;</span>Чек-лист проверки</a></span></li></ul></div>"
   ]
  },
  {
   "cell_type": "markdown",
   "metadata": {},
   "source": [
    "# Защита персональных данных клиентов"
   ]
  },
  {
   "cell_type": "markdown",
   "metadata": {},
   "source": [
    "Вам нужно защитить данные клиентов страховой компании «Хоть потоп». Разработайте такой метод преобразования данных, чтобы по ним было сложно восстановить персональную информацию. Обоснуйте корректность его работы.\n",
    "\n",
    "Нужно защитить данные, чтобы при преобразовании качество моделей машинного обучения не ухудшилось. Подбирать наилучшую модель не требуется."
   ]
  },
  {
   "cell_type": "markdown",
   "metadata": {},
   "source": [
    "## Загрузка данных"
   ]
  },
  {
   "cell_type": "markdown",
   "metadata": {},
   "source": [
    "Вынесем импорты в отдельную ячейку"
   ]
  },
  {
   "cell_type": "code",
   "execution_count": 1,
   "metadata": {},
   "outputs": [],
   "source": [
    "import pandas as pd\n",
    "import numpy as np\n",
    "from sklearn.linear_model import LinearRegression\n",
    "from sklearn.model_selection import train_test_split\n",
    "from sklearn.metrics import r2_score\n",
    "import warnings\n",
    "warnings.filterwarnings('ignore')\n",
    "\n",
    "pd.set_option('display.max_columns', None)"
   ]
  },
  {
   "cell_type": "code",
   "execution_count": 2,
   "metadata": {},
   "outputs": [],
   "source": [
    "df = pd.read_csv('https://code.s3.yandex.net/datasets/insurance.csv')"
   ]
  },
  {
   "cell_type": "code",
   "execution_count": 3,
   "metadata": {},
   "outputs": [
    {
     "data": {
      "text/plain": "      Пол  Возраст  Зарплата  Члены семьи  Страховые выплаты\n3060    0     20.0   36600.0            1                  0\n1046    1     23.0   31300.0            1                  0\n3412    0     40.0   46700.0            0                  0\n3067    0     20.0   41500.0            0                  0\n4401    0     41.0   17000.0            1                  0\n1605    1     41.0   43200.0            2                  0\n2522    1     19.0   46200.0            1                  0\n3178    0     42.0   53600.0            3                  0\n3150    0     23.0   53600.0            1                  0\n4809    1     31.0   46200.0            6                  0",
      "text/html": "<div>\n<style scoped>\n    .dataframe tbody tr th:only-of-type {\n        vertical-align: middle;\n    }\n\n    .dataframe tbody tr th {\n        vertical-align: top;\n    }\n\n    .dataframe thead th {\n        text-align: right;\n    }\n</style>\n<table border=\"1\" class=\"dataframe\">\n  <thead>\n    <tr style=\"text-align: right;\">\n      <th></th>\n      <th>Пол</th>\n      <th>Возраст</th>\n      <th>Зарплата</th>\n      <th>Члены семьи</th>\n      <th>Страховые выплаты</th>\n    </tr>\n  </thead>\n  <tbody>\n    <tr>\n      <th>3060</th>\n      <td>0</td>\n      <td>20.0</td>\n      <td>36600.0</td>\n      <td>1</td>\n      <td>0</td>\n    </tr>\n    <tr>\n      <th>1046</th>\n      <td>1</td>\n      <td>23.0</td>\n      <td>31300.0</td>\n      <td>1</td>\n      <td>0</td>\n    </tr>\n    <tr>\n      <th>3412</th>\n      <td>0</td>\n      <td>40.0</td>\n      <td>46700.0</td>\n      <td>0</td>\n      <td>0</td>\n    </tr>\n    <tr>\n      <th>3067</th>\n      <td>0</td>\n      <td>20.0</td>\n      <td>41500.0</td>\n      <td>0</td>\n      <td>0</td>\n    </tr>\n    <tr>\n      <th>4401</th>\n      <td>0</td>\n      <td>41.0</td>\n      <td>17000.0</td>\n      <td>1</td>\n      <td>0</td>\n    </tr>\n    <tr>\n      <th>1605</th>\n      <td>1</td>\n      <td>41.0</td>\n      <td>43200.0</td>\n      <td>2</td>\n      <td>0</td>\n    </tr>\n    <tr>\n      <th>2522</th>\n      <td>1</td>\n      <td>19.0</td>\n      <td>46200.0</td>\n      <td>1</td>\n      <td>0</td>\n    </tr>\n    <tr>\n      <th>3178</th>\n      <td>0</td>\n      <td>42.0</td>\n      <td>53600.0</td>\n      <td>3</td>\n      <td>0</td>\n    </tr>\n    <tr>\n      <th>3150</th>\n      <td>0</td>\n      <td>23.0</td>\n      <td>53600.0</td>\n      <td>1</td>\n      <td>0</td>\n    </tr>\n    <tr>\n      <th>4809</th>\n      <td>1</td>\n      <td>31.0</td>\n      <td>46200.0</td>\n      <td>6</td>\n      <td>0</td>\n    </tr>\n  </tbody>\n</table>\n</div>"
     },
     "execution_count": 3,
     "metadata": {},
     "output_type": "execute_result"
    }
   ],
   "source": [
    "df.sample(10)"
   ]
  },
  {
   "cell_type": "code",
   "execution_count": 4,
   "metadata": {},
   "outputs": [
    {
     "name": "stdout",
     "output_type": "stream",
     "text": [
      "<class 'pandas.core.frame.DataFrame'>\n",
      "RangeIndex: 5000 entries, 0 to 4999\n",
      "Data columns (total 5 columns):\n",
      " #   Column             Non-Null Count  Dtype  \n",
      "---  ------             --------------  -----  \n",
      " 0   Пол                5000 non-null   int64  \n",
      " 1   Возраст            5000 non-null   float64\n",
      " 2   Зарплата           5000 non-null   float64\n",
      " 3   Члены семьи        5000 non-null   int64  \n",
      " 4   Страховые выплаты  5000 non-null   int64  \n",
      "dtypes: float64(2), int64(3)\n",
      "memory usage: 195.4 KB\n"
     ]
    }
   ],
   "source": [
    "df.info()"
   ]
  },
  {
   "cell_type": "markdown",
   "metadata": {},
   "source": [
    "<b> Вывод: данные хорошие, без пропусков, численные. Целевой признак - \"Страховые выплаты\". Более глубокий предварительный анализ данных в этой задаче не требуется. </b>"
   ]
  },
  {
   "cell_type": "markdown",
   "metadata": {},
   "source": [
    "## Умножение матриц"
   ]
  },
  {
   "cell_type": "markdown",
   "metadata": {},
   "source": [
    "В этом задании вы можете записывать формулы в *Jupyter Notebook.*\n",
    "\n",
    "Чтобы записать формулу внутри текста, окружите её символами доллара \\\\$; если снаружи —  двойными символами \\\\$\\\\$. Эти формулы записываются на языке вёрстки *LaTeX.* \n",
    "\n",
    "Для примера мы записали формулы линейной регрессии. Можете их скопировать и отредактировать, чтобы решить задачу.\n",
    "\n",
    "Работать в *LaTeX* необязательно."
   ]
  },
  {
   "cell_type": "markdown",
   "metadata": {},
   "source": [
    "Обозначения:\n",
    "\n",
    "- $X$ — матрица признаков (нулевой столбец состоит из единиц)\n",
    "\n",
    "- $y$ — вектор целевого признака\n",
    "\n",
    "- $P$ — матрица, на которую умножаются признаки\n",
    "\n",
    "- $w$ — вектор весов линейной регрессии (нулевой элемент равен сдвигу)"
   ]
  },
  {
   "cell_type": "markdown",
   "metadata": {},
   "source": [
    "Предсказания:\n",
    "\n",
    "$$\n",
    "a = Xw\n",
    "$$\n",
    "\n",
    "Задача обучения:\n",
    "\n",
    "$$\n",
    "w = \\arg\\min_w MSE(Xw, y)\n",
    "$$\n",
    "\n",
    "Формула обучения:\n",
    "\n",
    "$$\n",
    "w = (X^T X)^{-1} X^T y\n",
    "$$"
   ]
  },
  {
   "cell_type": "markdown",
   "metadata": {},
   "source": [
    "### Признаки умножают на обратимую матрицу. Изменится ли качество линейной регрессии?"
   ]
  },
  {
   "cell_type": "markdown",
   "metadata": {},
   "source": [
    "**Ответ:** При умножении признаков на обратимую матрицу качество линейной регрессии не изменится.\n",
    "\n",
    "**Обоснование:** \n",
    "\n",
    "Формула предсказаний: $$\n",
    "a=X(X^TX)^{-1} X^T y $$\n",
    "\n",
    "\n",
    "Умножим регрессные признаки $X$ на матрицу $P$: $$\n",
    "XP((XP)^T XP)^{-1} (XP)^T $$ =\n",
    "$$ XP(P^T X^T XP)^{-1} P^TX^T $$ =\n",
    "$$ X PP^{-1}(X^T X)^{-1}(P^T)^{-1}P^TX^T $$ =\n",
    "$$ X(X^TX)^{-1}X^T $$\n",
    "\n",
    "Таким образом $P$ — матрица, на которую умножаются признаки исчезает из уравнения а вектор целевого признака $y$ зависит от наших регрессных признаков.\n"
   ]
  },
  {
   "cell_type": "markdown",
   "metadata": {},
   "source": [
    "## Алгоритм преобразования"
   ]
  },
  {
   "cell_type": "markdown",
   "metadata": {},
   "source": [
    "**Алгоритм**\n",
    "\n",
    "Необходимо умножить признаки на обратимую матрицу."
   ]
  },
  {
   "cell_type": "markdown",
   "metadata": {},
   "source": [
    "**Обоснование**\n",
    "\n",
    "Суть задания - преобразовать данные клиента (в нашем случае это признаки) без потери качества модели машинного обучения. Выше мы доказали, что умножение этих признаков на рандомную обратимую матрицу не ухудшает качество линейной регрессии."
   ]
  },
  {
   "cell_type": "markdown",
   "metadata": {},
   "source": [
    "## Проверка алгоритма"
   ]
  },
  {
   "cell_type": "markdown",
   "metadata": {},
   "source": [
    "### Обучим Линейную регрессию на исходных данных."
   ]
  },
  {
   "cell_type": "code",
   "execution_count": 5,
   "metadata": {},
   "outputs": [
    {
     "data": {
      "text/plain": "((4000, 4), (4000,), (1000, 4), (1000,))"
     },
     "execution_count": 5,
     "metadata": {},
     "output_type": "execute_result"
    }
   ],
   "source": [
    "features = df.drop('Страховые выплаты', axis=1)\n",
    "target = df['Страховые выплаты']\n",
    "\n",
    "features_train, features_test,\\\n",
    "target_train, target_test = train_test_split(\n",
    "    features, target, test_size=0.2, random_state=42\n",
    ")\n",
    "\n",
    "features_train.shape, target_train.shape, features_test.shape, target_test.shape"
   ]
  },
  {
   "cell_type": "code",
   "execution_count": 6,
   "metadata": {},
   "outputs": [
    {
     "name": "stdout",
     "output_type": "stream",
     "text": [
      "R2 score модели: 0.43686949231380134\n"
     ]
    }
   ],
   "source": [
    "model = LinearRegression().fit(features_train, target_train)\n",
    "predictions = model.predict(features_test)\n",
    "print(\"R2 score модели:\", r2_score(target_test, predictions))"
   ]
  },
  {
   "cell_type": "markdown",
   "metadata": {},
   "source": [
    "### Умножим наши признаки на рандомную матрицу и проведем обучение линейной регрессии на новых данных."
   ]
  },
  {
   "cell_type": "code",
   "execution_count": 7,
   "metadata": {},
   "outputs": [
    {
     "data": {
      "text/plain": "array([[ 0.1762847 ,  0.87650766,  0.16139328, -0.73979603],\n       [ 0.46735438,  1.10517278,  0.20847536,  0.20028731],\n       [ 1.41987973, -0.20397152, -2.49429529,  0.93572362],\n       [ 1.93617122,  1.78118202,  0.48921208,  1.76040276]])"
     },
     "execution_count": 7,
     "metadata": {},
     "output_type": "execute_result"
    }
   ],
   "source": [
    "matrix = np.random.normal(size = [features.shape[1], features.shape[1]])\n",
    "matrix"
   ]
  },
  {
   "cell_type": "code",
   "execution_count": 8,
   "metadata": {},
   "outputs": [
    {
     "data": {
      "text/plain": "array([[  70447.30865267,  -10069.01777129, -123707.84822406,\n          46421.12397505],\n       [  53978.86425797,   -7698.29874734,  -94773.14189169,\n          35568.47120713],\n       [  29831.02763202,   -4251.35197418,  -52374.15527711,\n          19656.00436754],\n       ...,\n       [  48147.14231751,   -6888.96881286,  -84551.46235534,\n          31728.55729471],\n       [  46446.33380475,   -6639.33494994,  -81557.24045283,\n          30607.11013118],\n       [  57662.31546502,   -8247.64130965, -101261.90080551,\n          37997.00765336]])"
     },
     "execution_count": 8,
     "metadata": {},
     "output_type": "execute_result"
    }
   ],
   "source": [
    "try:\n",
    "    features_new = np.dot(features, matrix)\n",
    "except:\n",
    "    print('Похоже попалась необратимая матрица. Нужно перезапустить код.')\n",
    "    \n",
    "features_new"
   ]
  },
  {
   "cell_type": "markdown",
   "metadata": {},
   "source": [
    "<b> Признаки явно не похожи на то, что было в исходных данных </b>"
   ]
  },
  {
   "cell_type": "markdown",
   "metadata": {},
   "source": [
    "**Проведем обучение модели на новых данных**"
   ]
  },
  {
   "cell_type": "code",
   "execution_count": 9,
   "metadata": {},
   "outputs": [
    {
     "data": {
      "text/plain": "((4000, 4), (4000,), (1000, 4), (1000,))"
     },
     "execution_count": 9,
     "metadata": {},
     "output_type": "execute_result"
    }
   ],
   "source": [
    "features_train, features_test,\\\n",
    "target_train, target_test = train_test_split(\n",
    "    features_new, target, test_size=0.2, random_state=42\n",
    ")\n",
    "\n",
    "features_train.shape, target_train.shape, features_test.shape, target_test.shape"
   ]
  },
  {
   "cell_type": "code",
   "execution_count": 10,
   "metadata": {},
   "outputs": [
    {
     "name": "stdout",
     "output_type": "stream",
     "text": [
      "R2 score модели: 0.43686949230982897\n"
     ]
    }
   ],
   "source": [
    "model = LinearRegression().fit(features_train, target_train)\n",
    "predictions = model.predict(features_test)\n",
    "print(\"R2 score модели:\", r2_score(target_test, predictions))"
   ]
  },
  {
   "cell_type": "markdown",
   "metadata": {
    "pycharm": {
     "name": "#%% md\n"
    }
   },
   "source": [
    "### Вывод: Произведением признаков на случайную обратимую матрицу удалось изменить персональные данные клиентов, защитив их, при этом R2 score модели на новых данных никак не изменилось."
   ]
  }
 ],
 "metadata": {
  "ExecuteTimeLog": [
   {
    "duration": 17637,
    "start_time": "2021-10-17T08:01:41.250Z"
   },
   {
    "duration": 634,
    "start_time": "2021-10-17T08:02:34.717Z"
   },
   {
    "duration": 4,
    "start_time": "2021-10-17T08:15:57.994Z"
   },
   {
    "duration": 8132,
    "start_time": "2021-10-17T08:18:07.843Z"
   },
   {
    "duration": 1152,
    "start_time": "2021-10-17T08:18:15.979Z"
   },
   {
    "duration": 21,
    "start_time": "2021-10-17T08:37:47.487Z"
   },
   {
    "duration": 22,
    "start_time": "2021-10-17T08:38:02.275Z"
   },
   {
    "duration": 15,
    "start_time": "2021-10-17T08:38:07.698Z"
   },
   {
    "duration": 23210,
    "start_time": "2021-10-22T06:55:48.144Z"
   },
   {
    "duration": 1199,
    "start_time": "2021-10-22T06:56:11.357Z"
   },
   {
    "duration": 18,
    "start_time": "2021-10-22T06:56:12.559Z"
   },
   {
    "duration": 25,
    "start_time": "2021-10-22T06:56:12.579Z"
   },
   {
    "duration": 13,
    "start_time": "2021-10-22T06:56:12.606Z"
   },
   {
    "duration": 83,
    "start_time": "2021-10-22T07:07:48.663Z"
   },
   {
    "duration": 5,
    "start_time": "2021-10-22T07:08:02.320Z"
   },
   {
    "duration": 11,
    "start_time": "2021-10-22T07:13:53.239Z"
   },
   {
    "duration": 5,
    "start_time": "2021-10-22T07:18:10.973Z"
   },
   {
    "duration": 348,
    "start_time": "2021-10-22T07:28:04.568Z"
   },
   {
    "duration": 7863,
    "start_time": "2021-10-22T07:29:14.588Z"
   },
   {
    "duration": 1172,
    "start_time": "2021-10-22T07:29:22.453Z"
   },
   {
    "duration": 18,
    "start_time": "2021-10-22T07:29:23.628Z"
   },
   {
    "duration": 31,
    "start_time": "2021-10-22T07:29:23.649Z"
   },
   {
    "duration": 14,
    "start_time": "2021-10-22T07:29:23.682Z"
   },
   {
    "duration": 12,
    "start_time": "2021-10-22T07:29:23.698Z"
   },
   {
    "duration": 12,
    "start_time": "2021-10-22T07:29:23.713Z"
   },
   {
    "duration": 12,
    "start_time": "2021-10-22T07:30:12.602Z"
   },
   {
    "duration": 8,
    "start_time": "2021-10-22T07:30:15.164Z"
   },
   {
    "duration": 3,
    "start_time": "2021-10-22T14:19:50.960Z"
   },
   {
    "duration": 7740,
    "start_time": "2021-10-22T14:21:57.353Z"
   },
   {
    "duration": 1202,
    "start_time": "2021-10-22T14:22:05.096Z"
   },
   {
    "duration": 20,
    "start_time": "2021-10-22T14:22:06.301Z"
   },
   {
    "duration": 24,
    "start_time": "2021-10-22T14:22:06.324Z"
   },
   {
    "duration": 28,
    "start_time": "2021-10-22T14:22:06.350Z"
   },
   {
    "duration": 11,
    "start_time": "2021-10-22T14:22:06.381Z"
   },
   {
    "duration": 9,
    "start_time": "2021-10-22T14:22:06.395Z"
   },
   {
    "duration": 10,
    "start_time": "2021-10-22T14:36:46.154Z"
   },
   {
    "duration": 8080,
    "start_time": "2021-10-22T18:42:48.479Z"
   },
   {
    "duration": -73,
    "start_time": "2021-10-22T18:42:56.635Z"
   },
   {
    "duration": -80,
    "start_time": "2021-10-22T18:42:56.643Z"
   },
   {
    "duration": -91,
    "start_time": "2021-10-22T18:42:56.656Z"
   },
   {
    "duration": -101,
    "start_time": "2021-10-22T18:42:56.667Z"
   },
   {
    "duration": -105,
    "start_time": "2021-10-22T18:42:56.673Z"
   },
   {
    "duration": -123,
    "start_time": "2021-10-22T18:42:56.692Z"
   },
   {
    "duration": 7665,
    "start_time": "2021-10-22T18:43:39.942Z"
   },
   {
    "duration": 1203,
    "start_time": "2021-10-22T18:43:47.611Z"
   },
   {
    "duration": 20,
    "start_time": "2021-10-22T18:43:48.817Z"
   },
   {
    "duration": 37,
    "start_time": "2021-10-22T18:43:48.839Z"
   },
   {
    "duration": 14,
    "start_time": "2021-10-22T18:43:48.879Z"
   },
   {
    "duration": 17,
    "start_time": "2021-10-22T18:43:48.895Z"
   },
   {
    "duration": 9,
    "start_time": "2021-10-22T18:43:48.914Z"
   },
   {
    "duration": 482,
    "start_time": "2021-10-23T07:34:05.784Z"
   },
   {
    "duration": 18136,
    "start_time": "2021-10-23T07:34:21.835Z"
   },
   {
    "duration": 1142,
    "start_time": "2021-10-23T07:34:39.974Z"
   },
   {
    "duration": 21,
    "start_time": "2021-10-23T07:34:41.119Z"
   },
   {
    "duration": 23,
    "start_time": "2021-10-23T07:34:41.143Z"
   },
   {
    "duration": 21,
    "start_time": "2021-10-23T07:34:41.168Z"
   },
   {
    "duration": 10,
    "start_time": "2021-10-23T07:34:41.191Z"
   },
   {
    "duration": 10,
    "start_time": "2021-10-23T07:34:41.223Z"
   },
   {
    "duration": 394,
    "start_time": "2021-10-23T07:34:41.236Z"
   },
   {
    "duration": 6,
    "start_time": "2021-10-23T07:34:47.327Z"
   },
   {
    "duration": 16,
    "start_time": "2021-10-23T07:37:20.914Z"
   },
   {
    "duration": 259,
    "start_time": "2021-10-23T07:37:41.070Z"
   },
   {
    "duration": 8,
    "start_time": "2021-10-23T07:37:51.424Z"
   },
   {
    "duration": 271,
    "start_time": "2021-10-23T07:38:14.912Z"
   },
   {
    "duration": 7,
    "start_time": "2021-10-23T07:40:38.340Z"
   },
   {
    "duration": 8,
    "start_time": "2021-10-23T07:43:05.159Z"
   },
   {
    "duration": 7,
    "start_time": "2021-10-23T07:43:23.625Z"
   },
   {
    "duration": 7754,
    "start_time": "2021-10-23T07:48:56.739Z"
   },
   {
    "duration": 1194,
    "start_time": "2021-10-23T07:49:04.496Z"
   },
   {
    "duration": 22,
    "start_time": "2021-10-23T07:49:05.692Z"
   },
   {
    "duration": 26,
    "start_time": "2021-10-23T07:49:05.717Z"
   },
   {
    "duration": 14,
    "start_time": "2021-10-23T07:49:05.746Z"
   },
   {
    "duration": 20,
    "start_time": "2021-10-23T07:49:05.762Z"
   },
   {
    "duration": 40,
    "start_time": "2021-10-23T07:49:05.784Z"
   },
   {
    "duration": 6,
    "start_time": "2021-10-23T07:49:05.827Z"
   },
   {
    "duration": 10,
    "start_time": "2021-10-23T07:49:05.835Z"
   },
   {
    "duration": 15,
    "start_time": "2021-10-23T07:49:05.847Z"
   },
   {
    "duration": 16,
    "start_time": "2021-10-23T07:49:05.864Z"
   },
   {
    "duration": 7969,
    "start_time": "2021-10-23T07:54:26.354Z"
   },
   {
    "duration": 1155,
    "start_time": "2021-10-23T07:54:34.327Z"
   },
   {
    "duration": 22,
    "start_time": "2021-10-23T07:54:35.485Z"
   },
   {
    "duration": 29,
    "start_time": "2021-10-23T07:54:35.509Z"
   },
   {
    "duration": 14,
    "start_time": "2021-10-23T07:54:35.540Z"
   },
   {
    "duration": 11,
    "start_time": "2021-10-23T07:54:35.556Z"
   },
   {
    "duration": 21,
    "start_time": "2021-10-23T07:54:35.569Z"
   },
   {
    "duration": 30,
    "start_time": "2021-10-23T07:54:35.594Z"
   },
   {
    "duration": 8,
    "start_time": "2021-10-23T07:54:35.626Z"
   },
   {
    "duration": 7,
    "start_time": "2021-10-23T07:54:35.637Z"
   },
   {
    "duration": 7,
    "start_time": "2021-10-23T07:54:35.647Z"
   },
   {
    "duration": 26133,
    "start_time": "2021-10-23T10:05:14.651Z"
   },
   {
    "duration": 1254,
    "start_time": "2021-10-23T10:05:40.787Z"
   },
   {
    "duration": 19,
    "start_time": "2021-10-23T10:06:06.919Z"
   },
   {
    "duration": 25,
    "start_time": "2021-10-23T10:06:07.097Z"
   },
   {
    "duration": 14,
    "start_time": "2021-10-23T10:06:07.352Z"
   },
   {
    "duration": 12,
    "start_time": "2021-10-23T10:07:58.424Z"
   },
   {
    "duration": 9,
    "start_time": "2021-10-23T10:08:09.249Z"
   },
   {
    "duration": 7,
    "start_time": "2021-10-23T10:08:10.012Z"
   },
   {
    "duration": 8,
    "start_time": "2021-10-23T10:08:10.224Z"
   },
   {
    "duration": 8,
    "start_time": "2021-10-23T10:08:10.972Z"
   },
   {
    "duration": 7,
    "start_time": "2021-10-23T10:08:11.204Z"
   }
  ],
  "kernelspec": {
   "display_name": "Python 3",
   "language": "python",
   "name": "python3"
  },
  "language_info": {
   "codemirror_mode": {
    "name": "ipython",
    "version": 3
   },
   "file_extension": ".py",
   "mimetype": "text/x-python",
   "name": "python",
   "nbconvert_exporter": "python",
   "pygments_lexer": "ipython3",
   "version": "3.7.8"
  },
  "toc": {
   "base_numbering": 1,
   "nav_menu": {},
   "number_sections": true,
   "sideBar": true,
   "skip_h1_title": true,
   "title_cell": "Содержание",
   "title_sidebar": "Contents",
   "toc_cell": true,
   "toc_position": {},
   "toc_section_display": true,
   "toc_window_display": true
  }
 },
 "nbformat": 4,
 "nbformat_minor": 2
}